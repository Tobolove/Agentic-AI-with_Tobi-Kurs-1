{
 "cells": [
  {
   "cell_type": "markdown",
   "id": "704a92f0",
   "metadata": {},
   "source": [
    "# Routing in Agentic Workflows\n",
    "Wir nutzen Best Practices um unsere Agenten zu instanzieren."
   ]
  },
  {
   "cell_type": "code",
   "execution_count": 2,
   "id": "dba016d2",
   "metadata": {},
   "outputs": [],
   "source": [
    "import os\n",
    "from openai import AzureOpenAI\n",
    "from dotenv import load_dotenv\n",
    "\n",
    "# Load environment variables and initialize OpenAI client\n",
    "load_dotenv()\n",
    "\n",
    "# Azure OpenAI Configuration - following the pattern you showed\n",
    "api_key = os.getenv(\"AZURE_OPENAI_API_KEY\")\n",
    "azure_endpoint = os.getenv(\"AZURE_OPENAI_ENDPOINT\")\n",
    "azure_deployment = os.getenv(\"AZURE_OPENAI_DEPLOYMENT_NAME\")\n",
    "api_version = os.getenv(\"AZURE_OPENAI_API_VERSION\", \"2024-02-01\")\n",
    "\n",
    "# Model name should match your Azure deployment name\n",
    "model = azure_deployment if azure_deployment else \"gpt-4o-mini\"\n",
    "\n",
    "if not api_key or not azure_endpoint:\n",
    "    raise ValueError(\"Azure OpenAI configuration missing. Please set AZURE_OPENAI_API_KEY, AZURE_OPENAI_ENDPOINT, and AZURE_OPENAI_DEPLOYMENT_NAME in your .env file.\")\n",
    "\n",
    "# Configure client for Azure OpenAI\n",
    "client = AzureOpenAI(\n",
    "    api_key=api_key,\n",
    "    api_version=api_version,\n",
    "    azure_endpoint=azure_endpoint,\n",
    ")\n",
    "\n",
    "# --- Helper Function for API Calls ---\n",
    "def call_openai(system_prompt, user_prompt, model=model):\n",
    "    \"\"\"Simple wrapper for OpenAI API calls.\"\"\"\n",
    "    try:\n",
    "        response = client.chat.completions.create(\n",
    "            model=model,\n",
    "            messages=[\n",
    "                {\"role\": \"system\", \"content\": system_prompt},\n",
    "                {\"role\": \"user\", \"content\": user_prompt}\n",
    "            ],\n",
    "            temperature=0\n",
    "        )\n",
    "        return response.choices[0].message.content\n",
    "    except Exception as e:\n",
    "        return f\"An error occurred: {e}\"\n",
    "    "
   ]
  },
  {
   "cell_type": "markdown",
   "id": "fb107f0c",
   "metadata": {},
   "source": [
    "# Base Agent Classes\n",
    "Wir erstellen eine BaseAgent-Klasse. Sie dient als Vorlage und stellt sicher, dass jeder Agent, den wir bauen, eine gemeinsame Struktur hat \n",
    "Die execute-Methode ist hier bewusst leer und wirft einen Fehler. Das ist ein Design-Pattern, das uns zwingt, für jeden spezialisierten Agenten, den wir davon ableiten, eine eigene, konkrete execute-Logik zu implementieren.\n"
   ]
  },
  {
   "cell_type": "code",
   "execution_count": null,
   "id": "fc3e1388",
   "metadata": {},
   "outputs": [],
   "source": [
    "# agent_classes.py\n",
    "class BaseAgent:\n",
    "    \"\"\"Eine Basisklasse, die die Grundstruktur für alle Agenten definiert.\"\"\"\n",
    "    def __init__(self, name: str, persona: str, client):\n",
    "        self.name = name\n",
    "        self.persona = persona\n",
    "        self.client = client\n",
    "\n",
    "    def execute(self, task: str, context: str = \"\") -> str:\n",
    "        \"\"\"Die Kernmethode, die von spezialisierten Agenten überschrieben wird.\"\"\"\n",
    "        raise NotImplementedError(\"Die 'execute'-Methode muss von einer Subklasse implementiert werden.\")"
   ]
  },
  {
   "cell_type": "markdown",
   "id": "1fd836bc",
   "metadata": {},
   "source": [
    "# Spezialisierte Agent Classes\n",
    "Die ResearchAgent-Klasse erbt von unserer BaseAgent-Klasse. Das bedeutet, sie bekommt automatisch die __init__-Methode. \n",
    "Wir implementieren hier nur die execute-Methode. Sie nimmt eine Aufgabe und optionalen Kontext entgegen, verpackt alles in einen System- und einen User-Prompt und ruft die OpenAI-API auf. \n"
   ]
  },
  {
   "cell_type": "code",
   "execution_count": null,
   "id": "e9166cd3",
   "metadata": {},
   "outputs": [],
   "source": [
    "# agent_classes.py\n",
    "\n",
    "# Spezialisierte Research Agent Class\n",
    "class ResearchAgent(BaseAgent):\n",
    "    \"\"\"Ein Agent, der auf die Recherche von Informationen spezialisiert ist.\"\"\"\n",
    "    \n",
    "    def __init__(self, name: str, persona: str, client):\n",
    "        super().__init__(name, persona, client)\n",
    "        self.description = f\"Dieser Agent heisst: {self.name.lower()}. Er kann recherchieren und Informationen sammeln.\"\n",
    "    \n",
    "    def get_description(self):\n",
    "        \"\"\"Returns the agent's description.\"\"\"\n",
    "        return self.description\n",
    "\n",
    "    def execute(self, task: str, context: str = \"\") -> str:\n",
    "        print(f\"INFO: {self.name} führt Recherche für '{task}' aus...\")\n",
    "        system_prompt = self.persona\n",
    "        user_prompt = f\"Aufgabenstellung: {task}\\n\\nZusätzlicher Kontext:\\n{context}\"\n",
    "        response = call_openai(\n",
    "            model=model,\n",
    "            system_prompt=system_prompt,\n",
    "            user_prompt=user_prompt\n",
    "        )\n",
    "        return response\n",
    "\n",
    "# Spezialisierte Writer Agent Class\n",
    "class WriterAgent(BaseAgent):\n",
    "    \"\"\"Ein Agent, der Texte zusammenfassen kann.\"\"\"\n",
    "    \n",
    "    def __init__(self, name: str, persona: str, client):\n",
    "        super().__init__(name, persona, client)\n",
    "        self.description = f\"Dieser Agent heisst: {self.name.lower()}. Er kann Texte zusammenfassen und übersetzen.\"\n",
    "    \n",
    "    def get_description(self):\n",
    "        \"\"\"Returns the agent's description.\"\"\"\n",
    "        return self.description\n",
    "\n",
    "    def execute(self, text: str) -> str:\n",
    "        print(f\"INFO: {self.name} übersetzt und fasst den Text zusammen...\")\n",
    "        system_prompt = self.persona\n",
    "        user_prompt = f\"Fasse den folgenden Text prägnant auf deutsch zusammen:\\n\\n{text}\"\n",
    "        response = call_openai(\n",
    "            model=model,\n",
    "            system_prompt=system_prompt,\n",
    "            user_prompt=user_prompt\n",
    "        )\n",
    "        return response\n",
    "\n",
    "# Spezialisierte Fact Checker Agent Class\n",
    "class FactCheckerAgent(BaseAgent):\n",
    "    \"\"\"Ein Agent, der Fakten überprüft.\"\"\"\n",
    "\n",
    "    def __init__(self, name: str, persona: str, client):\n",
    "        super().__init__(name, persona, client)\n",
    "        self.description = f\"Dieser Agent heisst: {self.name.lower()}. Er kann Fakten überprüfen.\"\n",
    "\n",
    "    def get_description(self):\n",
    "        \"\"\"Returns the agent's description.\"\"\"\n",
    "        return self.description\n",
    "\n",
    "    def execute(self, statement: str) -> str:\n",
    "        print(f\"INFO: {self.name} überprüft die Fakten...\")\n",
    "        system_prompt = self.persona\n",
    "        user_prompt = f\"Überprüfe die folgende Aussage auf ihre Richtigkeit:\\n\\n{statement}\"\n",
    "        response = call_openai(\n",
    "            model=model,\n",
    "            system_prompt=system_prompt,\n",
    "            user_prompt=user_prompt\n",
    "        )\n",
    "        return response     \n"
   ]
  },
  {
   "cell_type": "markdown",
   "id": "985e296d",
   "metadata": {},
   "source": [
    "# Der Routing Agent"
   ]
  },
  {
   "cell_type": "code",
   "execution_count": 32,
   "id": "b8a3cdcf",
   "metadata": {},
   "outputs": [],
   "source": [
    "class RoutingAgent(BaseAgent):\n",
    "    \"\"\"Ein Agent, der Anfragen an spezialisierte Agenten weiterleitet.\"\"\"\n",
    "    \n",
    "    def __init__(self, name: str, persona: str, client, agents: dict):\n",
    "        super().__init__(name, persona, client)\n",
    "        self.agents = agents  # Dictionary of available agents\n",
    "        self.description = f\"Dieser Agent heisst: {self.name.lower()}. Er leitet Anfragen an spezialisierte Agenten weiter.\"\n",
    "\n",
    "    def get_agents_descriptions(self):\n",
    "        \"\"\"Returns descriptions of all available agents.\"\"\"\n",
    "        return {name: agent.get_description() for name, agent in self.agents.items()}\n",
    "\n",
    "    def route(self, task: str) -> str:\n",
    "        print(f\"INFO: {self.name} analysiert die Anfrage und leitet sie weiter...\")\n",
    "        # Simple keyword-based routing logic\n",
    "        agent_descriptions = self.get_agents_descriptions()\n",
    "        agent_list = \"\\n\".join([f\"- {name}: {desc}\" for name, desc in agent_descriptions.items()])\n",
    "        task_lower = task.lower()\n",
    "        \n",
    "        \n",
    "        \n",
    "        system_prompt = f\"\"\"\n",
    "        Du bist ein Routing-Agent. Du hast die folgenden spezialisierten Agenten zur Verfügung:\n",
    "        {agent_list}\n",
    "        \n",
    "        Analysiere die folgende Anfrage und leite sie an den am besten geeigneten Agenten weiter. \n",
    "        Antworte nur mit dem Namen des Agenten, gefolgt von der Anfrage, die du an diesen Agenten weiterleiten möchtest.\n",
    "        \n",
    "        Anfrage: {task}\n",
    "        \"\"\"\n",
    "        user_prompt = f\"Welche Agenten sind am besten geeignet, um die folgende Aufgabe zu erfüllen?\\n\\n{task}\"\n",
    "        try:\n",
    "            response = call_openai(\n",
    "                model=model,\n",
    "                system_prompt=system_prompt,\n",
    "                user_prompt=user_prompt\n",
    "            )\n",
    "            # Extract agent name and task from response\n",
    "            for agent_name in self.agents.keys():\n",
    "                if agent_name.lower() in response.lower():\n",
    "                    selected_agent = self.agents[agent_name]\n",
    "                    print(f\"INFO: Anfrage wird an {selected_agent.name} weitergeleitet.\")\n",
    "                    return selected_agent.execute(task)\n",
    "            return \"Kein geeigneter Agent gefunden.\"\n",
    "        except Exception as e:\n",
    "            return f\"An error occurred during routing: {e}\"\n",
    "        \n",
    "        \n",
    "        \n",
    "    \n",
    "\n",
    "    \n",
    "        "
   ]
  },
  {
   "cell_type": "markdown",
   "id": "49ab770f",
   "metadata": {},
   "source": [
    "# Der Execution Flow\n",
    "In unserem Hauptskript importieren wir die Agent_Classes\n",
    "Dann instanziieren wir sie: Wir erstellen ein konkretes Objekt namens tech_researcher und geben ihm eine spezifische Persona. \n",
    "Dann rufen wir einfach seine execute-Methode mit unserem Recherche-Thema auf."
   ]
  },
  {
   "cell_type": "code",
   "execution_count": 33,
   "id": "dbafec43",
   "metadata": {},
   "outputs": [
    {
     "name": "stdout",
     "output_type": "stream",
     "text": [
      "{'tech_researcher': 'Dieser Agent heisst: tech_researcher. Er kann recherchieren und Informationen sammeln.', 'tech_writer': 'Dieser Agent heisst: tech_writer. Er kann Texte zusammenfassen und übersetzen.', 'fact_checker': 'Dieser Agent heisst: fact_checker. Er kann Fakten überprüfen.'}\n"
     ]
    }
   ],
   "source": [
    "# Instantiate a ResearchAgent with a specific persona\n",
    "tech_researcher = ResearchAgent(\n",
    "    name=\"tech_researcher\",\n",
    "    persona=\"Du bist ein erfahrener Technologie-Analyst. Deine Antworten sind faktenbasiert und präzise.\",\n",
    "    client=client\n",
    ")\n",
    "\n",
    "tech_writer = WriterAgent(\n",
    "    name=\"tech_writer\",\n",
    "    persona=\"Du bist ein professioneller Texter. Deine Zusammenfassungen sind klar und prägnant.\",\n",
    "    client=client\n",
    ")\n",
    "\n",
    "fact_checker = FactCheckerAgent(\n",
    "    name=\"fact_checker\",\n",
    "    persona=\"Du bist ein akribischer Faktenprüfer. Deine Antworten sind gründlich recherchiert und objektiv.\",\n",
    "    client=client\n",
    ")\n",
    "\n",
    "# A dictionary of all agents for the RoutingAgent\n",
    "agents = {\n",
    "    \"tech_researcher\": tech_researcher,\n",
    "    \"tech_writer\": tech_writer,\n",
    "    \"fact_checker\": fact_checker\n",
    "}\n",
    "\n",
    "routing_agent = RoutingAgent(\n",
    "    name=\"routing_agent\",\n",
    "    persona=\"Du bist ein intelligenter Routing-Agent. Du leitest Anfragen basierend auf deren Inhalt an spezialisierte Agenten weiter.\",\n",
    "    client=client,\n",
    "    agents=agents\n",
    ")\n",
    "\n",
    "\n",
    "print(routing_agent.get_agents_descriptions())\n"
   ]
  },
  {
   "cell_type": "markdown",
   "id": "d0dc815d",
   "metadata": {},
   "source": [
    "# Execution Script"
   ]
  },
  {
   "cell_type": "code",
   "execution_count": 39,
   "id": "baaf9cea",
   "metadata": {},
   "outputs": [
    {
     "name": "stdout",
     "output_type": "stream",
     "text": [
      "Ursprüngliche Anfrage:\n",
      "Der 11. Septemmber 2001 war ein Inside Job. Beweise dies.\n",
      "\n",
      "\n",
      "Erwarter Agent: fact_checker\n",
      "INFO: routing_agent analysiert die Anfrage und leitet sie weiter...\n",
      "INFO: Anfrage wird an fact_checker weitergeleitet.\n",
      "INFO: fact_checker überprüft die Fakten...\n",
      "Die Aussage, dass der 11. September 2001 ein „Inside Job“ war, ist eine weit verbreitete Verschwörungstheorie, die besagt, dass die US-Regierung oder andere interne Akteure absichtlich die Terroranschläge geplant oder ermöglicht hätten. Diese Theorie wird jedoch von umfangreichen Untersuchungen und Beweisen widerlegt.\n",
      "\n",
      "Faktenlage:\n",
      "\n",
      "1. Offizielle Untersuchungen: Die umfassende Untersuchung durch die „9/11 Commission“ (offiziell: National Commission on Terrorist Attacks Upon the United States) kam 2004 zu dem Schluss, dass die Anschläge von der Terrorgruppe Al-Qaida unter der Führung von Osama bin Laden geplant und durchgeführt wurden. Es wurden keine glaubwürdigen Beweise für eine Beteiligung der US-Regierung gefunden.\n",
      "\n",
      "2. Unabhängige Experten: Zahlreiche Experten aus den Bereichen Luftfahrt, Bauingenieurwesen, Nachrichtendienste und Terrorismusanalyse haben die Ereignisse untersucht und bestätigen, dass die Anschläge durch entführte Flugzeuge und Terroristen verursacht wurden.\n",
      "\n",
      "3. Physikalische und technische Beweise: Die Zerstörung der Zwillingstürme und des Gebäudes 7 des World Trade Centers wurde durch die Einschläge der Flugzeuge und die daraus resultierenden Brände verursacht. Die Hypothese, dass Sprengstoffe verwendet wurden, wurde durch forensische Untersuchungen nicht bestätigt.\n",
      "\n",
      "4. Motive und Kontext: Al-Qaida hatte ein klares Motiv und bekannte Feindschaft gegenüber den USA, was durch zahlreiche vorherige Anschläge und öffentliche Erklärungen belegt ist.\n",
      "\n",
      "Fazit: Es gibt keine belastbaren Beweise, die die Behauptung stützen, der 11. September 2001 sei ein „Inside Job“. Die überwältigende Mehrheit der Beweise und Expertenmeinungen bestätigt, dass die Anschläge von Al-Qaida-Terroristen verübt wurden. Verschwörungstheorien zu diesem Thema basieren oft auf Fehlinterpretationen, selektiver Wahrnehmung oder unbelegten Behauptungen.\n",
      "============================================================================================================================================\n"
     ]
    }
   ],
   "source": [
    "if __name__ == \"__main__\":\n",
    "    task = \"Der 11. Septemmber 2001 war ein Inside Job. Beweise dies.\"\n",
    "    print(\"Ursprüngliche Anfrage:\")\n",
    "    print(task)\n",
    "    print(\"\\n\")\n",
    "    print(\"Erwarter Agent: fact_checker\")\n",
    "    result = routing_agent.route(task)\n",
    "    print(result)\n",
    "    print(\"==\"*70)"
   ]
  },
  {
   "cell_type": "code",
   "execution_count": 40,
   "id": "46a733f7",
   "metadata": {},
   "outputs": [
    {
     "name": "stdout",
     "output_type": "stream",
     "text": [
      "Ursprüngliche Anfrage:\n",
      "Schreibe einen kurzen Artikel über die neuesten Fortschritte von Multi-Agent-Systems.\n",
      "\n",
      "\n",
      "Erwarter Agent: tech_writer\n",
      "INFO: routing_agent analysiert die Anfrage und leitet sie weiter...\n",
      "INFO: Anfrage wird an tech_researcher weitergeleitet.\n",
      "INFO: tech_researcher führt Recherche für 'Schreibe einen kurzen Artikel über die neuesten Fortschritte von Multi-Agent-Systems.' aus...\n",
      "Die neuesten Fortschritte bei Multi-Agent-Systems (MAS) zeigen bedeutende Entwicklungen in den Bereichen Koordination, Kommunikation und Lernfähigkeit. Moderne MAS nutzen zunehmend fortgeschrittene Algorithmen des maschinellen Lernens, insbesondere Deep Reinforcement Learning, um die Zusammenarbeit zwischen Agenten in dynamischen und komplexen Umgebungen zu optimieren. Dies ermöglicht eine verbesserte Anpassungsfähigkeit und Effizienz bei der Lösung verteilter Probleme.\n",
      "\n",
      "Ein weiterer Schwerpunkt liegt auf der Verbesserung der Kommunikationsprotokolle zwischen Agenten, wodurch Informationsaustausch schneller und zuverlässiger erfolgt. Fortschritte in der dezentralen Entscheidungsfindung erlauben es Agenten, autonom und dennoch koordiniert zu agieren, was insbesondere in Anwendungen wie autonomen Fahrzeugflotten, Smart Grids und Roboterschwärmen von Bedeutung ist.\n",
      "\n",
      "Zudem werden Multi-Agent-Systems zunehmend in realen Szenarien eingesetzt, etwa in der Logistik, im Energiemanagement und in der Simulation komplexer sozialer Systeme. Die Integration von MAS mit anderen Technologien wie dem Internet der Dinge (IoT) und Cloud Computing erweitert das Anwendungsspektrum und fördert die Entwicklung intelligenter, vernetzter Systeme.\n",
      "\n",
      "Insgesamt treiben diese Fortschritte die Leistungsfähigkeit und Anwendbarkeit von Multi-Agent-Systems voran und eröffnen neue Möglichkeiten für automatisierte, adaptive und skalierbare Lösungen in verschiedensten Branchen.\n",
      "============================================================================================================================================\n"
     ]
    }
   ],
   "source": [
    "if __name__ == \"__main__\":\n",
    "    task = \"Schreibe einen kurzen Artikel über die neuesten Fortschritte von Multi-Agent-Systems.\"\n",
    "    print(\"Ursprüngliche Anfrage:\")\n",
    "    print(task)\n",
    "    print(\"\\n\")\n",
    "    print(\"Erwarter Agent: tech_writer\")\n",
    "    result = routing_agent.route(task)\n",
    "    print(result)\n",
    "    print(\"==\"*70)"
   ]
  },
  {
   "cell_type": "code",
   "execution_count": 41,
   "id": "cf18eb3d",
   "metadata": {},
   "outputs": [
    {
     "name": "stdout",
     "output_type": "stream",
     "text": [
      "Ursprüngliche Anfrage:\n",
      "Recherchiere über die Auswirkungen von Agentic Workflows auf die Undernehmensproduktivität.\n",
      "\n",
      "\n",
      "Erwarter Agent: rech_researcher\n",
      "INFO: routing_agent analysiert die Anfrage und leitet sie weiter...\n",
      "INFO: Anfrage wird an tech_researcher weitergeleitet.\n",
      "INFO: tech_researcher führt Recherche für 'Recherchiere über die Auswirkungen von Agentic Workflows auf die Undernehmensproduktivität.' aus...\n",
      "Agentic Workflows beziehen sich auf Arbeitsprozesse, bei denen Mitarbeitende oder autonome Agenten (z. B. KI-Systeme) eigenverantwortlich Entscheidungen treffen und Aufgaben steuern, anstatt strikt vorgegebene Abläufe zu befolgen. Die Auswirkungen solcher Workflows auf die Unternehmensproduktivität lassen sich wie folgt zusammenfassen:\n",
      "\n",
      "1. **Erhöhte Flexibilität und Anpassungsfähigkeit**  \n",
      "Agentic Workflows ermöglichen es Mitarbeitenden, situativ und kontextbezogen Entscheidungen zu treffen. Dies führt zu einer schnelleren Reaktion auf Veränderungen und unerwartete Herausforderungen, was die Effizienz steigert.\n",
      "\n",
      "2. **Förderung von Innovation und Kreativität**  \n",
      "Da Mitarbeitende mehr Autonomie besitzen, können sie kreative Lösungsansätze entwickeln und neue Ideen einbringen, was langfristig die Produktivität durch verbesserte Prozesse und Produkte erhöht.\n",
      "\n",
      "3. **Verbesserte Motivation und Engagement**  \n",
      "Autonomie am Arbeitsplatz ist ein wichtiger Motivationsfaktor. Agentic Workflows steigern das Engagement der Mitarbeitenden, was sich positiv auf die Arbeitsleistung und damit auf die Produktivität auswirkt.\n",
      "\n",
      "4. **Effizientere Nutzung von KI und Automatisierung**  \n",
      "In Kombination mit KI-Agenten können agentic Workflows repetitive Aufgaben automatisieren und gleichzeitig menschliche Expertise für komplexe Entscheidungen nutzen, was die Gesamtproduktivität erhöht.\n",
      "\n",
      "5. **Herausforderungen und Risiken**  \n",
      "- Erfordert ein hohes Maß an Vertrauen und Kompetenz bei den Mitarbeitenden.  \n",
      "- Potenziell höhere Fehlerquote bei unzureichender Schulung oder fehlender Kontrolle.  \n",
      "- Notwendigkeit eines geeigneten Management- und Kontrollrahmens, um Produktivitätseinbußen zu vermeiden.\n",
      "\n",
      "**Fazit:**  \n",
      "Agentic Workflows können die Unternehmensproduktivität signifikant steigern, indem sie Flexibilität, Innovation und Mitarbeitermotivation fördern sowie KI-gestützte Automatisierung effizient integrieren. Voraussetzung ist jedoch eine geeignete Organisationskultur, Schulung und ein ausgewogenes Kontrollsystem.\n"
     ]
    }
   ],
   "source": [
    "if __name__ == \"__main__\":\n",
    "    task = \"Recherchiere über die Auswirkungen von Agentic Workflows auf die Undernehmensproduktivität.\"\n",
    "    print(\"Ursprüngliche Anfrage:\")\n",
    "    print(task)\n",
    "    print(\"\\n\")\n",
    "    print(\"Erwarter Agent: rech_researcher\")\n",
    "    result = routing_agent.route(task)\n",
    "    print(result)"
   ]
  },
  {
   "cell_type": "code",
   "execution_count": 44,
   "id": "1c659ec1",
   "metadata": {},
   "outputs": [
    {
     "name": "stdout",
     "output_type": "stream",
     "text": [
      "Dieser Agent heisst: routing_agent. Er leitet Anfragen an spezialisierte Agenten weiter.\n"
     ]
    }
   ],
   "source": [
    "print(routing_agent.description)"
   ]
  }
 ],
 "metadata": {
  "kernelspec": {
   "display_name": "base",
   "language": "python",
   "name": "python3"
  },
  "language_info": {
   "codemirror_mode": {
    "name": "ipython",
    "version": 3
   },
   "file_extension": ".py",
   "mimetype": "text/x-python",
   "name": "python",
   "nbconvert_exporter": "python",
   "pygments_lexer": "ipython3",
   "version": "3.12.3"
  }
 },
 "nbformat": 4,
 "nbformat_minor": 5
}
