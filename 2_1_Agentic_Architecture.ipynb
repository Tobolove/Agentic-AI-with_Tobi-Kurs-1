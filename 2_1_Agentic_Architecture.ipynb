{
 "cells": [
  {
   "cell_type": "markdown",
   "id": "704a92f0",
   "metadata": {},
   "source": [
    "# Agentic Architecture with Object Oriented Programming\n",
    "Wir nutzen Best Practices um unsere Agenten zu instanzieren."
   ]
  },
  {
   "cell_type": "code",
   "execution_count": 1,
   "id": "dba016d2",
   "metadata": {},
   "outputs": [],
   "source": [
    "import os\n",
    "from openai import AzureOpenAI\n",
    "from dotenv import load_dotenv\n",
    "\n",
    "# Load environment variables and initialize OpenAI client\n",
    "load_dotenv()\n",
    "\n",
    "# Azure OpenAI Configuration - following the pattern you showed\n",
    "api_key = os.getenv(\"AZURE_OPENAI_API_KEY\")\n",
    "azure_endpoint = os.getenv(\"AZURE_OPENAI_ENDPOINT\")\n",
    "azure_deployment = os.getenv(\"AZURE_OPENAI_DEPLOYMENT_NAME\")\n",
    "api_version = os.getenv(\"AZURE_OPENAI_API_VERSION\", \"2024-02-01\")\n",
    "\n",
    "# Model name should match your Azure deployment name\n",
    "model = azure_deployment if azure_deployment else \"gpt-4o-mini\"\n",
    "\n",
    "if not api_key or not azure_endpoint:\n",
    "    raise ValueError(\"Azure OpenAI configuration missing. Please set AZURE_OPENAI_API_KEY, AZURE_OPENAI_ENDPOINT, and AZURE_OPENAI_DEPLOYMENT_NAME in your .env file.\")\n",
    "\n",
    "# Configure client for Azure OpenAI\n",
    "client = AzureOpenAI(\n",
    "    api_key=api_key,\n",
    "    api_version=api_version,\n",
    "    azure_endpoint=azure_endpoint,\n",
    ")\n",
    "\n",
    "# --- Helper Function for API Calls ---\n",
    "def call_openai(system_prompt, user_prompt, model=model):\n",
    "    \"\"\"Simple wrapper for OpenAI API calls.\"\"\"\n",
    "    try:\n",
    "        response = client.chat.completions.create(\n",
    "            model=model,\n",
    "            messages=[\n",
    "                {\"role\": \"system\", \"content\": system_prompt},\n",
    "                {\"role\": \"user\", \"content\": user_prompt}\n",
    "            ],\n",
    "            temperature=0\n",
    "        )\n",
    "        return response.choices[0].message.content\n",
    "    except Exception as e:\n",
    "        return f\"An error occurred: {e}\"\n",
    "    "
   ]
  },
  {
   "cell_type": "markdown",
   "id": "fb107f0c",
   "metadata": {},
   "source": [
    "# Base Agent Classes\n",
    "Wir erstellen eine BaseAgent-Klasse. Sie dient als Vorlage und stellt sicher, dass jeder Agent, den wir bauen, eine gemeinsame Struktur hat \n",
    "Die execute-Methode ist hier bewusst leer und wirft einen Fehler. Das ist ein Design-Pattern, das uns zwingt, für jeden spezialisierten Agenten, den wir davon ableiten, eine eigene, konkrete execute-Logik zu implementieren.\n"
   ]
  },
  {
   "cell_type": "code",
   "execution_count": 2,
   "id": "fc3e1388",
   "metadata": {},
   "outputs": [],
   "source": [
    "# agent_classes.py\n",
    "class BaseAgent:\n",
    "    \"\"\"Eine Basisklasse, die die Grundstruktur für alle Agenten definiert.\"\"\"\n",
    "    def __init__(self, name: str, persona: str, client):\n",
    "        self.name = name\n",
    "        self.persona = persona\n",
    "        self.client = client\n",
    "\n",
    "    def execute(self, task: str, context: str = \"\") -> str:\n",
    "        \"\"\"Die Kernmethode, die von spezialisierten Agenten überschrieben wird.\"\"\"\n",
    "        raise NotImplementedError(\"Die 'execute'-Methode muss von einer Subklasse implementiert werden.\")"
   ]
  },
  {
   "cell_type": "markdown",
   "id": "1fd836bc",
   "metadata": {},
   "source": [
    "# Spezialisierte Agent Classes\n",
    "Die ResearchAgent-Klasse erbt von unserer BaseAgent-Klasse. Das bedeutet, sie bekommt automatisch die __init__-Methode. \n",
    "Wir implementieren hier nur die execute-Methode. Sie nimmt eine Aufgabe und optionalen Kontext entgegen, verpackt alles in einen System- und einen User-Prompt und ruft die OpenAI-API auf. \n"
   ]
  },
  {
   "cell_type": "code",
   "execution_count": 4,
   "id": "e9166cd3",
   "metadata": {},
   "outputs": [],
   "source": [
    "# agent_classes.py\n",
    "class ResearchAgent(BaseAgent):\n",
    "    \"\"\"Ein Agent, der auf die Recherche von Informationen spezialisiert ist.\"\"\"\n",
    "    \n",
    "    def execute(self, task: str, context: str = \"\") -> str:\n",
    "        print(f\"INFO: {self.name} führt Recherche für '{task}' aus...\")\n",
    "        system_prompt = self.persona\n",
    "        user_prompt = f\"Aufgabenstellung: {task}\\n\\nZusätzlicher Kontext:\\n{context}\"\n",
    "        response = call_openai(\n",
    "            model=model,\n",
    "            system_prompt=system_prompt,\n",
    "            user_prompt=user_prompt\n",
    "        )\n",
    "        return response"
   ]
  },
  {
   "cell_type": "markdown",
   "id": "49ab770f",
   "metadata": {},
   "source": [
    "# Der Execution Flow\n",
    "In unserem Hauptskript importieren wir die ResearchAgent-Klasse. \n",
    "Dann instanziieren wir sie: Wir erstellen ein konkretes Objekt namens tech_researcher und geben ihm eine spezifische Persona. \n",
    "Dann rufen wir einfach seine execute-Methode mit unserem Recherche-Thema auf."
   ]
  },
  {
   "cell_type": "code",
   "execution_count": 5,
   "id": "dbafec43",
   "metadata": {},
   "outputs": [
    {
     "name": "stdout",
     "output_type": "stream",
     "text": [
      "INFO: Tech-Analyst führt Recherche für 'Die Auswirkungen von Quantencomputing auf die Cybersicherheit' aus...\n",
      "Ergebnis der Recherche:\n",
      "关于量子计算对网络安全的影响，以下是基于中国权威来源的分析总结：\n",
      "\n",
      "1. **量子计算对传统加密算法的威胁**  \n",
      "根据中国科学院计算技术研究所的研究，量子计算机利用Shor算法能够在多项式时间内破解目前广泛使用的RSA和椭圆曲线加密（ECC）等公钥密码体系，这将导致传统加密技术面临严重安全威胁（来源：《计算机学报》，2020年第43卷第6期）。\n",
      "\n",
      "2. **量子安全密码学的发展**  \n",
      "中国信息安全评测认证中心指出，为应对量子计算带来的挑战，国家积极推动量子安全密码学（Post-Quantum Cryptography, PQC）的研究与应用，重点发展基于格密码、哈希函数和多变量多项式的抗量子攻击算法（来源：《信息安全研究》，2021年第7期）。\n",
      "\n",
      "3. **量子密钥分发（QKD）技术的应用**  \n",
      "中国科学技术大学潘建伟团队在量子密钥分发领域取得突破，已实现千公里级别的量子通信网络，利用量子纠缠和测不准原理保障密钥分发的绝对安全，极大提升网络通信的安全性（来源：《中国科学：信息科学》，2019年第49卷第1期）。\n",
      "\n",
      "4. **政策与战略布局**  \n",
      "中国政府在《国家中长期科学和技术发展规划纲要（2021-2035年）》中明确提出加强量子信息技术的研发，推动量子计算与网络安全深度融合，构建新一代安全可信的信息基础设施（来源：中华人民共和国科学技术部官网）。\n",
      "\n",
      "5. **挑战与未来展望**  \n",
      "尽管量子计算带来安全风险，但目前实用量子计算机尚未普及，量子安全技术仍处于发展阶段。中国网络安全领域专家建议加快量子安全算法标准化进程，提升网络安全防护能力，确保信息系统在量子时代的安全稳定运行（来源：《网络安全技术与应用》，2022年第10期）。\n",
      "\n",
      "综上所述，量子计算技术对网络安全既带来严峻挑战，也推动了密码学和安全技术的创新。中国在量子通信和量子安全密码学领域处于国际领先地位，积极布局应对量子威胁，保障国家信息安全。\n"
     ]
    }
   ],
   "source": [
    "# main.py\n",
    "# from agents_classes import ResearchAgent\n",
    "\n",
    "# Instantiate a ResearchAgent mit einer spezifischen Persona\n",
    "tech_researcher = ResearchAgent( \n",
    "    name=\"Tech-Analyst\",\n",
    "    persona=\"Du bist ein erfahrener Technologie-Analyst. Deine Antworten sind faktenbasiert und präzise.\",\n",
    "    client=client \n",
    ")   \n",
    "\n",
    "#\n",
    "if __name__ == \"__main__\":\n",
    "    topic = \"Die Auswirkungen von Quantencomputing auf die Cybersicherheit\"\n",
    "    result = tech_researcher.execute(task=topic, context=\"Bitte nur chinesische Quellen verwenden.\")\n",
    "    print(\"Ergebnis der Recherche:\")\n",
    "    print(result)\n",
    "\n"
   ]
  }
 ],
 "metadata": {
  "kernelspec": {
   "display_name": "base",
   "language": "python",
   "name": "python3"
  },
  "language_info": {
   "codemirror_mode": {
    "name": "ipython",
    "version": 3
   },
   "file_extension": ".py",
   "mimetype": "text/x-python",
   "name": "python",
   "nbconvert_exporter": "python",
   "pygments_lexer": "ipython3",
   "version": "3.12.3"
  }
 },
 "nbformat": 4,
 "nbformat_minor": 5
}
